{
 "cells": [
  {
   "cell_type": "code",
   "execution_count": 70,
   "id": "8bd7e047-a695-4239-8f3d-ab5801a0b0d1",
   "metadata": {},
   "outputs": [],
   "source": [
    "import pandas as pd\n",
    "import numpy as np\n",
    "import matplotlib.pyplot as plt\n",
    "import seaborn as sns\n",
    "import warnings\n",
    "warnings.filterwarnings('ignore')"
   ]
  },
  {
   "cell_type": "code",
   "execution_count": 72,
   "id": "490bc695-e59f-49b7-95c8-1eebd85402e8",
   "metadata": {},
   "outputs": [
    {
     "data": {
      "text/html": [
       "<div>\n",
       "<style scoped>\n",
       "    .dataframe tbody tr th:only-of-type {\n",
       "        vertical-align: middle;\n",
       "    }\n",
       "\n",
       "    .dataframe tbody tr th {\n",
       "        vertical-align: top;\n",
       "    }\n",
       "\n",
       "    .dataframe thead th {\n",
       "        text-align: right;\n",
       "    }\n",
       "</style>\n",
       "<table border=\"1\" class=\"dataframe\">\n",
       "  <thead>\n",
       "    <tr style=\"text-align: right;\">\n",
       "      <th></th>\n",
       "      <th>Text</th>\n",
       "      <th>Language</th>\n",
       "    </tr>\n",
       "  </thead>\n",
       "  <tbody>\n",
       "    <tr>\n",
       "      <th>0</th>\n",
       "      <td>Nature, in the broadest sense, is the natural...</td>\n",
       "      <td>English</td>\n",
       "    </tr>\n",
       "    <tr>\n",
       "      <th>1</th>\n",
       "      <td>\"Nature\" can refer to the phenomena of the phy...</td>\n",
       "      <td>English</td>\n",
       "    </tr>\n",
       "    <tr>\n",
       "      <th>2</th>\n",
       "      <td>The study of nature is a large, if not the onl...</td>\n",
       "      <td>English</td>\n",
       "    </tr>\n",
       "    <tr>\n",
       "      <th>3</th>\n",
       "      <td>Although humans are part of nature, human acti...</td>\n",
       "      <td>English</td>\n",
       "    </tr>\n",
       "    <tr>\n",
       "      <th>4</th>\n",
       "      <td>[1] The word nature is borrowed from the Old F...</td>\n",
       "      <td>English</td>\n",
       "    </tr>\n",
       "  </tbody>\n",
       "</table>\n",
       "</div>"
      ],
      "text/plain": [
       "                                                Text Language\n",
       "0   Nature, in the broadest sense, is the natural...  English\n",
       "1  \"Nature\" can refer to the phenomena of the phy...  English\n",
       "2  The study of nature is a large, if not the onl...  English\n",
       "3  Although humans are part of nature, human acti...  English\n",
       "4  [1] The word nature is borrowed from the Old F...  English"
      ]
     },
     "execution_count": 72,
     "metadata": {},
     "output_type": "execute_result"
    }
   ],
   "source": [
    "df = pd.read_csv('language_detection.csv')\n",
    "\n",
    "df.head()"
   ]
  },
  {
   "cell_type": "code",
   "execution_count": 74,
   "id": "090f46bd-461f-445c-904b-7ffb207c0942",
   "metadata": {},
   "outputs": [
    {
     "data": {
      "text/plain": [
       "(10337, 2)"
      ]
     },
     "execution_count": 74,
     "metadata": {},
     "output_type": "execute_result"
    }
   ],
   "source": [
    "df.shape"
   ]
  },
  {
   "cell_type": "code",
   "execution_count": 76,
   "id": "7f286a56-2911-4dea-a194-8dead7fe4495",
   "metadata": {},
   "outputs": [
    {
     "data": {
      "text/plain": [
       "array(['English', 'Malayalam', 'Hindi', 'Tamil', 'Portugeese', 'French',\n",
       "       'Dutch', 'Spanish', 'Greek', 'Russian', 'Danish', 'Italian',\n",
       "       'Turkish', 'Sweedish', 'Arabic', 'German', 'Kannada'], dtype=object)"
      ]
     },
     "execution_count": 76,
     "metadata": {},
     "output_type": "execute_result"
    }
   ],
   "source": [
    "df['Language'].unique()"
   ]
  },
  {
   "cell_type": "code",
   "execution_count": 78,
   "id": "a693334f-65bc-4e2f-9569-392f634a78cc",
   "metadata": {},
   "outputs": [
    {
     "data": {
      "text/plain": [
       "Language\n",
       "English       1385\n",
       "French        1014\n",
       "Spanish        819\n",
       "Portugeese     739\n",
       "Italian        698\n",
       "Russian        692\n",
       "Sweedish       676\n",
       "Malayalam      594\n",
       "Dutch          546\n",
       "Arabic         536\n",
       "Turkish        474\n",
       "German         470\n",
       "Tamil          469\n",
       "Danish         428\n",
       "Kannada        369\n",
       "Greek          365\n",
       "Hindi           63\n",
       "Name: count, dtype: int64"
      ]
     },
     "execution_count": 78,
     "metadata": {},
     "output_type": "execute_result"
    }
   ],
   "source": [
    "df['Language'].value_counts()"
   ]
  },
  {
   "cell_type": "code",
   "execution_count": 80,
   "id": "61159e9f-4c5d-4dae-b912-77b572b80269",
   "metadata": {},
   "outputs": [
    {
     "data": {
      "text/html": [
       "<div>\n",
       "<style scoped>\n",
       "    .dataframe tbody tr th:only-of-type {\n",
       "        vertical-align: middle;\n",
       "    }\n",
       "\n",
       "    .dataframe tbody tr th {\n",
       "        vertical-align: top;\n",
       "    }\n",
       "\n",
       "    .dataframe thead th {\n",
       "        text-align: right;\n",
       "    }\n",
       "</style>\n",
       "<table border=\"1\" class=\"dataframe\">\n",
       "  <thead>\n",
       "    <tr style=\"text-align: right;\">\n",
       "      <th></th>\n",
       "      <th>Text</th>\n",
       "      <th>Language</th>\n",
       "    </tr>\n",
       "  </thead>\n",
       "  <tbody>\n",
       "    <tr>\n",
       "      <th>0</th>\n",
       "      <td>nature, in the broadest sense, is the natural,...</td>\n",
       "      <td>English</td>\n",
       "    </tr>\n",
       "    <tr>\n",
       "      <th>1</th>\n",
       "      <td>\"nature\" can refer to the phenomena of the phy...</td>\n",
       "      <td>English</td>\n",
       "    </tr>\n",
       "    <tr>\n",
       "      <th>2</th>\n",
       "      <td>the study of nature is a large, if not the onl...</td>\n",
       "      <td>English</td>\n",
       "    </tr>\n",
       "    <tr>\n",
       "      <th>3</th>\n",
       "      <td>although humans are part of nature, human acti...</td>\n",
       "      <td>English</td>\n",
       "    </tr>\n",
       "    <tr>\n",
       "      <th>4</th>\n",
       "      <td>[1] the word nature is borrowed from the old f...</td>\n",
       "      <td>English</td>\n",
       "    </tr>\n",
       "    <tr>\n",
       "      <th>5</th>\n",
       "      <td>[2] in ancient philosophy, natura is mostly us...</td>\n",
       "      <td>English</td>\n",
       "    </tr>\n",
       "    <tr>\n",
       "      <th>6</th>\n",
       "      <td>[3][4] \\nthe concept of nature as a whole, the...</td>\n",
       "      <td>English</td>\n",
       "    </tr>\n",
       "    <tr>\n",
       "      <th>7</th>\n",
       "      <td>during the advent of modern scientific method ...</td>\n",
       "      <td>English</td>\n",
       "    </tr>\n",
       "    <tr>\n",
       "      <th>8</th>\n",
       "      <td>[5][6] with the industrial revolution, nature ...</td>\n",
       "      <td>English</td>\n",
       "    </tr>\n",
       "    <tr>\n",
       "      <th>9</th>\n",
       "      <td>however, a vitalist vision of nature, closer t...</td>\n",
       "      <td>English</td>\n",
       "    </tr>\n",
       "  </tbody>\n",
       "</table>\n",
       "</div>"
      ],
      "text/plain": [
       "                                                Text Language\n",
       "0  nature, in the broadest sense, is the natural,...  English\n",
       "1  \"nature\" can refer to the phenomena of the phy...  English\n",
       "2  the study of nature is a large, if not the onl...  English\n",
       "3  although humans are part of nature, human acti...  English\n",
       "4  [1] the word nature is borrowed from the old f...  English\n",
       "5  [2] in ancient philosophy, natura is mostly us...  English\n",
       "6  [3][4] \\nthe concept of nature as a whole, the...  English\n",
       "7  during the advent of modern scientific method ...  English\n",
       "8  [5][6] with the industrial revolution, nature ...  English\n",
       "9  however, a vitalist vision of nature, closer t...  English"
      ]
     },
     "execution_count": 80,
     "metadata": {},
     "output_type": "execute_result"
    }
   ],
   "source": [
    "df['Text'] = df['Text'].str.lower().str.strip()\n",
    "df.head(10)"
   ]
  },
  {
   "cell_type": "code",
   "execution_count": 82,
   "id": "b712a432-9ddb-4bdb-88c4-a027002b9f93",
   "metadata": {},
   "outputs": [
    {
     "data": {
      "text/html": [
       "<div>\n",
       "<style scoped>\n",
       "    .dataframe tbody tr th:only-of-type {\n",
       "        vertical-align: middle;\n",
       "    }\n",
       "\n",
       "    .dataframe tbody tr th {\n",
       "        vertical-align: top;\n",
       "    }\n",
       "\n",
       "    .dataframe thead th {\n",
       "        text-align: right;\n",
       "    }\n",
       "</style>\n",
       "<table border=\"1\" class=\"dataframe\">\n",
       "  <thead>\n",
       "    <tr style=\"text-align: right;\">\n",
       "      <th></th>\n",
       "      <th>Text</th>\n",
       "      <th>Language</th>\n",
       "    </tr>\n",
       "  </thead>\n",
       "  <tbody>\n",
       "    <tr>\n",
       "      <th>0</th>\n",
       "      <td>nature, in the broadest sense, is the natural,...</td>\n",
       "      <td>English</td>\n",
       "    </tr>\n",
       "    <tr>\n",
       "      <th>1</th>\n",
       "      <td>nature can refer to the phenomena of the physi...</td>\n",
       "      <td>English</td>\n",
       "    </tr>\n",
       "  </tbody>\n",
       "</table>\n",
       "</div>"
      ],
      "text/plain": [
       "                                                Text Language\n",
       "0  nature, in the broadest sense, is the natural,...  English\n",
       "1  nature can refer to the phenomena of the physi...  English"
      ]
     },
     "execution_count": 82,
     "metadata": {},
     "output_type": "execute_result"
    }
   ],
   "source": [
    "import re\n",
    "def clean_text(text):\n",
    "# Remove citations like [1], [2], [3][4]\n",
    "    text = re.sub(r'\\[\\d+\\]', '', text)\n",
    "    \n",
    "    # Remove extra quotes\n",
    "    text = text.replace('\"','')\n",
    "    \n",
    "    # Remove newlines\n",
    "    text = text.replace('\\n',' ')\n",
    "\n",
    "    # Remove Whitespace cleaning\n",
    "    text = re.sub(r'\\s+', ' ', text)\n",
    "    \n",
    "    # Strip again just in case\n",
    "    text = text.strip()\n",
    "    \n",
    "    return text\n",
    "\n",
    "df['Text'] = df['Text'].apply(clean_text)\n",
    "df.head(2)"
   ]
  },
  {
   "cell_type": "code",
   "execution_count": 83,
   "id": "6d0a3c96-9ffc-4357-aabf-33b00d595fec",
   "metadata": {},
   "outputs": [],
   "source": [
    "X = df['Text']\n",
    "y = df['Language']"
   ]
  },
  {
   "cell_type": "code",
   "execution_count": 86,
   "id": "8991b1d4-8b58-4446-aeab-9593e7d7c7ce",
   "metadata": {},
   "outputs": [],
   "source": [
    "from sklearn.model_selection import train_test_split\n",
    "\n",
    "# 80% train, 20% test, stratified to maintain language proportions\n",
    "X_train, X_test, y_train, y_test = train_test_split(X, y, test_size=0.2, random_state=42, stratify=y) \n",
    "# stratify keeps all 17 languages represented proportionally"
   ]
  },
  {
   "cell_type": "code",
   "execution_count": 88,
   "id": "63adc236-b51a-4228-9d5b-6a82f7fdfc25",
   "metadata": {},
   "outputs": [
    {
     "name": "stdout",
     "output_type": "stream",
     "text": [
      "Accuracy: 0.9850096711798839\n"
     ]
    }
   ],
   "source": [
    "from sklearn.pipeline import Pipeline\n",
    "from sklearn.feature_extraction.text import CountVectorizer\n",
    "from sklearn.naive_bayes import MultinomialNB\n",
    "\n",
    "\n",
    "# Build Pipeline\n",
    "\n",
    "pipeline = Pipeline([\n",
    "    ('vectorizer', CountVectorizer(analyzer='char', ngram_range=(1,3))),\n",
    "    ('classifier', MultinomialNB())\n",
    "])\n",
    "\n",
    "# Train\n",
    "pipeline.fit(X_train, y_train)\n",
    "\n",
    "# Predict\n",
    "y_pred = pipeline.predict(X_test)\n",
    "\n",
    "# Evaluate\n",
    "from sklearn.metrics import accuracy_score\n",
    "print(\"Accuracy:\", accuracy_score(y_test, y_pred))"
   ]
  },
  {
   "cell_type": "code",
   "execution_count": 98,
   "id": "e504c25d-23c8-4e39-8bf6-1d5c382ac534",
   "metadata": {},
   "outputs": [
    {
     "name": "stdout",
     "output_type": "stream",
     "text": [
      "Training Accuracy: 0.9871810376103519\n",
      "Testing Accuracy: 0.9850096711798839\n"
     ]
    }
   ],
   "source": [
    "# Training accuracy\n",
    "y_train_pred = pipeline.predict(X_train)\n",
    "train_acc = accuracy_score(y_train, y_train_pred)\n",
    "print(\"Training Accuracy:\", train_acc)\n",
    "\n",
    "# Testing accuracy\n",
    "y_test_pred = pipeline.predict(X_test)\n",
    "test_acc = accuracy_score(y_test, y_test_pred)\n",
    "print(\"Testing Accuracy:\", test_acc)"
   ]
  },
  {
   "cell_type": "code",
   "execution_count": 96,
   "id": "da61d69e-079f-49c0-a453-7bb6ea13b35c",
   "metadata": {},
   "outputs": [
    {
     "name": "stdout",
     "output_type": "stream",
     "text": [
      "Classification Report:\n",
      "\n",
      "              precision    recall  f1-score   support\n",
      "\n",
      "      Arabic       1.00      1.00      1.00       107\n",
      "      Danish       1.00      0.88      0.94        86\n",
      "       Dutch       0.98      0.95      0.97       109\n",
      "     English       0.95      1.00      0.97       277\n",
      "      French       0.98      0.99      0.99       203\n",
      "      German       1.00      0.97      0.98        94\n",
      "       Greek       1.00      1.00      1.00        73\n",
      "       Hindi       1.00      1.00      1.00        12\n",
      "     Italian       0.99      0.98      0.99       140\n",
      "     Kannada       1.00      1.00      1.00        74\n",
      "   Malayalam       1.00      1.00      1.00       119\n",
      "  Portugeese       0.99      0.99      0.99       148\n",
      "     Russian       1.00      0.99      0.99       138\n",
      "     Spanish       0.99      0.98      0.98       164\n",
      "    Sweedish       0.96      0.99      0.97       135\n",
      "       Tamil       1.00      1.00      1.00        94\n",
      "     Turkish       1.00      1.00      1.00        95\n",
      "\n",
      "    accuracy                           0.99      2068\n",
      "   macro avg       0.99      0.98      0.99      2068\n",
      "weighted avg       0.99      0.99      0.98      2068\n",
      "\n"
     ]
    },
    {
     "data": {
      "image/png": "[encoded data removed]",
      "text/plain": [
       "<Figure size 1200x1000 with 2 Axes>"
      ]
     },
     "metadata": {},
     "output_type": "display_data"
    }
   ],
   "source": [
    "from sklearn.metrics import classification_report, confusion_matrix\n",
    "\n",
    "# Classification report\n",
    "print(\"Classification Report:\\n\")\n",
    "print(classification_report(y_test, y_pred))\n",
    "\n",
    "# Confusion matrix\n",
    "cm = confusion_matrix(y_test, y_pred, labels=np.unique(y_test))\n",
    "\n",
    "# Plot confusion matrix\n",
    "plt.figure(figsize=(12,10))\n",
    "sns.heatmap(cm, annot=True, fmt='d', cmap='Reds', xticklabels=np.unique(y_test), yticklabels=np.unique(y_test))\n",
    "plt.xlabel('Predicted Language')\n",
    "plt.ylabel('Actual Language')\n",
    "plt.title('Confusion Matrix for Language Detection')\n",
    "plt.show()"
   ]
  },
  {
   "cell_type": "code",
   "execution_count": 100,
   "id": "594ce423-3935-49ce-a1dd-075de61cc26f",
   "metadata": {},
   "outputs": [],
   "source": [
    "import re\n",
    "\n",
    "def detect_language(text):\n",
    "    \"\"\"\n",
    "    Input: a string of text\n",
    "    Output: predicted language (from your 17-language model)\n",
    "    \"\"\"\n",
    "    # Cleaning steps (same as training)\n",
    "    text = text.lower().strip()                      # lowercase and strip\n",
    "    text = re.sub(r'\\[\\d+\\]', '', text)             # remove citations like [1], [2]\n",
    "    text = text.replace('\"','')                      # remove quotes\n",
    "    text = text.replace('\\n',' ')                    # replace newlines with space\n",
    "    text = re.sub(r'\\s+', ' ', text)                # collapse multiple spaces\n",
    "    \n",
    "    # Prediction using trained pipeline\n",
    "    language = pipeline.predict([text])[0]\n",
    "    \n",
    "    return language"
   ]
  },
  {
   "cell_type": "code",
   "execution_count": 104,
   "id": "663c22c6-9767-4502-bfa2-fffb98daa14e",
   "metadata": {},
   "outputs": [],
   "source": [
    "text = 'Hey, my name is Adeel'"
   ]
  },
  {
   "cell_type": "code",
   "execution_count": 106,
   "id": "0c128118-df7d-4617-80bf-5f2e203e627b",
   "metadata": {},
   "outputs": [
    {
     "name": "stdout",
     "output_type": "stream",
     "text": [
      "English\n"
     ]
    }
   ],
   "source": [
    "print(detect_language(text))"
   ]
  },
  {
   "cell_type": "code",
   "execution_count": 108,
   "id": "008b55f3-9b25-435f-b5cb-fb703d5f38f5",
   "metadata": {},
   "outputs": [],
   "source": [
    "text = 'Hola, me gusta aprender'"
   ]
  },
  {
   "cell_type": "code",
   "execution_count": 110,
   "id": "bea71b43-7178-49fa-aa12-849e83fe7373",
   "metadata": {},
   "outputs": [
    {
     "name": "stdout",
     "output_type": "stream",
     "text": [
      "Spanish\n"
     ]
    }
   ],
   "source": [
    "print(detect_language(text))"
   ]
  },
  {
   "cell_type": "code",
   "execution_count": 112,
   "id": "fd520cc5-66c2-4f7e-ac23-3fa0cbd586d3",
   "metadata": {},
   "outputs": [],
   "source": [
    "text = 'Bonjour, je m’appelle Pierre et j’aime le chocolat.'"
   ]
  },
  {
   "cell_type": "code",
   "execution_count": 114,
   "id": "dc191a6e-7463-491b-995c-04b59d09101f",
   "metadata": {},
   "outputs": [
    {
     "name": "stdout",
     "output_type": "stream",
     "text": [
      "French\n"
     ]
    }
   ],
   "source": [
    "print(detect_language(text))"
   ]
  },
  {
   "cell_type": "code",
   "execution_count": 116,
   "id": "7b88735f-f4c8-4d7d-99f7-bba032699dfe",
   "metadata": {},
   "outputs": [
    {
     "name": "stdout",
     "output_type": "stream",
     "text": [
      "Pipeline saved successfully!\n"
     ]
    }
   ],
   "source": [
    "import joblib\n",
    "\n",
    "# Save pipeline\n",
    "joblib.dump(pipeline, 'language_detector_pipeline.joblib')\n",
    "print(\"Pipeline saved successfully!\")"
   ]
  },
  {
   "cell_type": "code",
   "execution_count": null,
   "id": "2e212e33-b2c3-4e39-81a2-e1c59b7c76f2",
   "metadata": {},
   "outputs": [],
   "source": []
  }
 ],
 "metadata": {
  "kernelspec": {
   "display_name": "Python [conda env:base] *",
   "language": "python",
   "name": "conda-base-py"
  },
  "language_info": {
   "codemirror_mode": {
    "name": "ipython",
    "version": 3
   },
   "file_extension": ".py",
   "mimetype": "text/x-python",
   "name": "python",
   "nbconvert_exporter": "python",
   "pygments_lexer": "ipython3",
   "version": "3.12.7"
  }
 },
 "nbformat": 4,
 "nbformat_minor": 5
}
